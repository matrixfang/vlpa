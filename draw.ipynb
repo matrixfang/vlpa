{
 "cells": [
  {
   "cell_type": "code",
   "execution_count": 1,
   "metadata": {
    "collapsed": true
   },
   "outputs": [],
   "source": [
    "import networkx as nx\n",
    "import numpy as np\n",
    "import scipy as sp\n",
    "import cProfile\n",
    "import re\n",
    "\n",
    "import pickle\n",
    "from collections import namedtuple\n",
    "import inputdata\n",
    "import matplotlib.pyplot as plt\n",
    "import vlpa\n",
    "from sklearn.metrics.cluster import normalized_mutual_info_score\n",
    "import community\n",
    "import plot\n",
    "import matplotlib as mpl\n",
    "import time\n",
    "import pandas as pd"
   ]
  },
  {
   "cell_type": "code",
   "execution_count": 2,
   "metadata": {},
   "outputs": [
    {
     "name": "stdout",
     "output_type": "stream",
     "text": [
      "form_modularity_compare1.dat loaded!\nform_modularity_compare2.dat loaded!\nform_modularity_compare3.dat loaded!\nform_modularity_compare4.dat loaded!\nform_modularity_compare5.dat loaded!\nform_modularity_compare6.dat loaded!\nform_modularity_compare7.dat loaded!\nform_modularity_compare8.dat loaded!\nform_modularity_compare9.dat loaded!\nform_modularity_compare10.dat loaded!\nform_modularity_compare1.dat loaded!\nform_modularity_compare2.dat loaded!\nform_modularity_compare3.dat loaded!\nform_modularity_compare4.dat loaded!\nform_modularity_compare5.dat loaded!\nform_modularity_compare6.dat loaded!\nform_modularity_compare7.dat loaded!\nform_modularity_compare8.dat loaded!\nform_modularity_compare9.dat loaded!\nform_modularity_compare10.dat loaded!\nform_modularity_compare1.dat loaded!\nform_modularity_compare2.dat loaded!\nform_modularity_compare3.dat loaded!\nform_modularity_compare4.dat loaded!\nform_modularity_compare5.dat loaded!\nform_modularity_compare6.dat loaded!\nform_modularity_compare7.dat loaded!\nform_modularity_compare8.dat loaded!\nform_modularity_compare9.dat loaded!\nform_modularity_compare10.dat loaded!\nform_modularity_compare1.dat loaded!\nform_modularity_compare2.dat loaded!\nform_modularity_compare3.dat loaded!\nform_modularity_compare4.dat loaded!\nform_modularity_compare5.dat loaded!\nform_modularity_compare6.dat loaded!\nform_modularity_compare7.dat loaded!\nform_modularity_compare8.dat loaded!\nform_modularity_compare9.dat loaded!\nform_modularity_compare10.dat loaded!\nform_modularity_compare1.dat loaded!\nform_modularity_compare2.dat loaded!\nform_modularity_compare3.dat loaded!\nform_modularity_compare4.dat loaded!\nform_modularity_compare5.dat loaded!\nform_modularity_compare6.dat loaded!\nform_modularity_compare7.dat loaded!\nform_modularity_compare8.dat loaded!\nform_modularity_compare9.dat loaded!\nform_modularity_compare10.dat loaded!\nform_modularity_compare1.dat loaded!\nform_modularity_compare2.dat loaded!\nform_modularity_compare3.dat loaded!\nform_modularity_compare4.dat loaded!\nform_modularity_compare5.dat loaded!\nform_modularity_compare6.dat loaded!\nform_modularity_compare7.dat loaded!\nform_modularity_compare8.dat loaded!\nform_modularity_compare9.dat loaded!\nform_modularity_compare10.dat loaded!\nform_modularity_compare1.dat loaded!\nform_modularity_compare2.dat loaded!\nform_modularity_compare3.dat loaded!\nform_modularity_compare4.dat loaded!\nform_modularity_compare5.dat loaded!\nform_modularity_compare6.dat loaded!\nform_modularity_compare7.dat loaded!\nform_modularity_compare8.dat loaded!\nform_modularity_compare9.dat loaded!\nform_modularity_compare10.dat loaded!\nform_modularity_compare1.dat loaded!\nform_modularity_compare2.dat loaded!\nform_modularity_compare3.dat loaded!\nform_modularity_compare4.dat loaded!\nform_modularity_compare5.dat loaded!\nform_modularity_compare6.dat loaded!\nform_modularity_compare7.dat loaded!\nform_modularity_compare8.dat loaded!\nform_modularity_compare9.dat loaded!\nform_modularity_compare10.dat loaded!\nform_modularity_compare1.dat loaded!\nform_modularity_compare2.dat loaded!\n"
     ]
    },
    {
     "name": "stdout",
     "output_type": "stream",
     "text": [
      "form_modularity_compare3.dat loaded!\nform_modularity_compare4.dat loaded!\nform_modularity_compare5.dat loaded!\nform_modularity_compare6.dat loaded!\nform_modularity_compare7.dat loaded!\nform_modularity_compare8.dat loaded!\nform_modularity_compare9.dat loaded!\nform_modularity_compare10.dat loaded!\n"
     ]
    },
    {
     "data": {
      "text/html": [
       "<div>\n",
       "<style>\n",
       "    .dataframe thead tr:only-child th {\n",
       "        text-align: right;\n",
       "    }\n",
       "\n",
       "    .dataframe thead th {\n",
       "        text-align: left;\n",
       "    }\n",
       "\n",
       "    .dataframe tbody tr th {\n",
       "        vertical-align: top;\n",
       "    }\n",
       "</style>\n",
       "<table border=\"1\" class=\"dataframe\">\n",
       "  <thead>\n",
       "    <tr style=\"text-align: right;\">\n",
       "      <th></th>\n",
       "      <th>benchmark</th>\n",
       "      <th>informap</th>\n",
       "      <th>louvain</th>\n",
       "      <th>lpa</th>\n",
       "      <th>vpa</th>\n",
       "      <th>vpas</th>\n",
       "    </tr>\n",
       "  </thead>\n",
       "  <tbody>\n",
       "  </tbody>\n",
       "</table>\n",
       "</div>"
      ],
      "text/plain": [
       "<div>\n",
       "<style>\n",
       "    .dataframe thead tr:only-child th {\n",
       "        text-align: right;\n",
       "    }\n",
       "\n",
       "    .dataframe thead th {\n",
       "        text-align: left;\n",
       "    }\n",
       "\n",
       "    .dataframe tbody tr th {\n",
       "        vertical-align: top;\n",
       "    }\n",
       "</style>\n",
       "<table border=\"1\" class=\"dataframe\">\n",
       "  <thead>\n",
       "    <tr style=\"text-align: right;\">\n",
       "      <th></th>\n",
       "      <th>benchmark</th>\n",
       "      <th>informap</th>\n",
       "      <th>louvain</th>\n",
       "      <th>lpa</th>\n",
       "      <th>vpa</th>\n",
       "      <th>vpas</th>\n",
       "    </tr>\n",
       "  </thead>\n",
       "  <tbody>\n",
       "  </tbody>\n",
       "</table>\n",
       "</div>"
      ]
     },
     "execution_count": 2,
     "metadata": {},
     "output_type": "execute_result"
    }
   ],
   "source": [
    "df_all = pd.DataFrame({'vpa':{},'vpas':{},'louvain':{},'lpa':{},'informap':{},'benchmark':{}})\n",
    "for x in range(9):\n",
    "    df_cal = pd.DataFrame()\n",
    "    for num in [1, 2, 3, 4, 5, 6, 7, 8, 9, 10]:\n",
    "        file_name = 'form_modularity_compare' + str(num) + '.dat'\n",
    "        #print(file_name + ' loaded!')\n",
    "        with open(file_name, 'r') as f:\n",
    "            data = pickle.load(f)\n",
    "        df_cal = pd.DataFrame(data)\n",
    "        df_cal.loc[num] = pd.DataFrame(data).loc[4]\n",
    "    df_all.append(df_cal.mean().to_dict(),ignore_index=True)\n",
    "df_all"
   ]
  },
  {
   "cell_type": "code",
   "execution_count": 3,
   "metadata": {},
   "outputs": [
    {
     "ename": "NameError",
     "evalue": "name 'end' is not defined",
     "traceback": [
      "\u001b[0;31m\u001b[0m",
      "\u001b[0;31mNameError\u001b[0mTraceback (most recent call last)",
      "\u001b[0;32m<ipython-input-3-1ad9ff016b3b>\u001b[0m in \u001b[0;36m<module>\u001b[0;34m()\u001b[0m\n\u001b[1;32m      1\u001b[0m \u001b[0mlist\u001b[0m \u001b[0;34m=\u001b[0m \u001b[0;34m[\u001b[0m\u001b[0;36m12\u001b[0m\u001b[0;34m,\u001b[0m\u001b[0;36m3\u001b[0m\u001b[0;34m,\u001b[0m\u001b[0;36m4\u001b[0m\u001b[0;34m,\u001b[0m\u001b[0;36m5\u001b[0m\u001b[0;34m,\u001b[0m\u001b[0;36m6\u001b[0m\u001b[0;34m]\u001b[0m\u001b[0;34m\u001b[0m\u001b[0m\n\u001b[1;32m      2\u001b[0m \u001b[0mindex\u001b[0m\u001b[0;34m=\u001b[0m \u001b[0;34m[\u001b[0m\u001b[0;36m2\u001b[0m\u001b[0;34m,\u001b[0m\u001b[0;36m3\u001b[0m\u001b[0;34m,\u001b[0m\u001b[0;36m4\u001b[0m\u001b[0;34m]\u001b[0m\u001b[0;34m\u001b[0m\u001b[0m\n\u001b[0;32m----> 3\u001b[0;31m \u001b[0;32mprint\u001b[0m\u001b[0;34m(\u001b[0m\u001b[0mlist\u001b[0m\u001b[0;34m[\u001b[0m\u001b[0;36m2\u001b[0m\u001b[0;34m:\u001b[0m\u001b[0mend\u001b[0m\u001b[0;34m]\u001b[0m\u001b[0;34m)\u001b[0m\u001b[0;34m\u001b[0m\u001b[0m\n\u001b[0m",
      "\u001b[0;31mNameError\u001b[0m: name 'end' is not defined"
     ],
     "output_type": "error"
    }
   ],
   "source": [
    "list = [12,3,4,5,6]\n",
    "index= [2,3,4]\n",
    "print(list[2:end])"
   ]
  },
  {
   "cell_type": "code",
   "execution_count": null,
   "metadata": {},
   "outputs": [],
   "source": []
  }
 ],
 "metadata": {
  "kernelspec": {
   "display_name": "Python 2",
   "language": "python",
   "name": "python2"
  },
  "language_info": {
   "codemirror_mode": {
    "name": "ipython",
    "version": 2
   },
   "file_extension": ".py",
   "mimetype": "text/x-python",
   "name": "python",
   "nbconvert_exporter": "python",
   "pygments_lexer": "ipython2",
   "version": "2.7.6"
  }
 },
 "nbformat": 4,
 "nbformat_minor": 0
}
